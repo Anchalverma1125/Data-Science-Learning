{
  "nbformat": 4,
  "nbformat_minor": 0,
  "metadata": {
    "colab": {
      "provenance": [],
      "authorship_tag": "ABX9TyMmct4uVQZkBA3MBPjxgQuc",
      "include_colab_link": true
    },
    "kernelspec": {
      "name": "python3",
      "display_name": "Python 3"
    },
    "language_info": {
      "name": "python"
    }
  },
  "cells": [
    {
      "cell_type": "markdown",
      "metadata": {
        "id": "view-in-github",
        "colab_type": "text"
      },
      "source": [
        "<a href=\"https://colab.research.google.com/github/Anchalverma1125/Data-Science-Learning/blob/main/Day1_Python_Basics.ipynb\" target=\"_parent\"><img src=\"https://colab.research.google.com/assets/colab-badge.svg\" alt=\"Open In Colab\"/></a>"
      ]
    },
    {
      "cell_type": "markdown",
      "source": [
        "Python is a HLL developed in 1991 by Guido Van Rossum.\n",
        "output- print() method is used to display output on screen"
      ],
      "metadata": {
        "id": "ioKzBLgLHpGV"
      }
    },
    {
      "cell_type": "code",
      "execution_count": 1,
      "metadata": {
        "colab": {
          "base_uri": "https://localhost:8080/"
        },
        "id": "PKj25k6NAo-Q",
        "outputId": "93901b6f-8fd4-427f-e217-5703361e5cd2"
      },
      "outputs": [
        {
          "output_type": "stream",
          "name": "stdout",
          "text": [
            "Hello World\n"
          ]
        }
      ],
      "source": [
        "print(\"Hello World\")"
      ]
    },
    {
      "cell_type": "markdown",
      "source": [
        "input() method is used to interact with user and take input from the user, by default it take string as an input."
      ],
      "metadata": {
        "id": "pyO1ZDRuHmWh"
      }
    },
    {
      "cell_type": "code",
      "source": [
        "name = input(\"Enter your name :\")\n",
        "print(name)\n",
        "print(type(name))\n"
      ],
      "metadata": {
        "colab": {
          "base_uri": "https://localhost:8080/"
        },
        "id": "ZaZdUStHImWb",
        "outputId": "2c74f6a7-f580-4b18-9e3e-6c3e65034c0c"
      },
      "execution_count": 3,
      "outputs": [
        {
          "output_type": "stream",
          "name": "stdout",
          "text": [
            "Enter your name :Anchal\n",
            "Anchal\n",
            "<class 'str'>\n"
          ]
        }
      ]
    },
    {
      "cell_type": "markdown",
      "source": [
        "Typecast\n",
        "if we want other form of data like numeric, decimal, bool we should mention it before input\n",
        "\n",
        "age = int(input(\"Enter your age:))\n"
      ],
      "metadata": {
        "id": "RMaadAUJI28r"
      }
    },
    {
      "cell_type": "code",
      "source": [
        "age = int(input(\"enter your age: \"))\n",
        "print(type(age))"
      ],
      "metadata": {
        "colab": {
          "base_uri": "https://localhost:8080/"
        },
        "id": "5GOJeIcHJk2a",
        "outputId": "536dd64c-5700-495b-b53b-3127d5b51706"
      },
      "execution_count": 4,
      "outputs": [
        {
          "output_type": "stream",
          "name": "stdout",
          "text": [
            "enter your age: 23\n",
            "<class 'int'>\n"
          ]
        }
      ]
    },
    {
      "cell_type": "markdown",
      "source": [
        "VARIABLES\n"
      ],
      "metadata": {
        "id": "Wi5ardRrJ189"
      }
    },
    {
      "cell_type": "code",
      "source": [
        "a = 25\n",
        "x = 100\n",
        "y = 100\n",
        "z = 100\n",
        "name = \"Anchal\"\n",
        "height = 5.6\n",
        "g, h = 10, 20\n",
        "\n",
        "print(a)\n",
        "print(name)\n",
        "print(height)\n",
        "print(x)\n",
        "print(y)\n",
        "print(z)\n",
        "print(g)\n",
        "print(h)"
      ],
      "metadata": {
        "colab": {
          "base_uri": "https://localhost:8080/"
        },
        "id": "nsGPmpy0J7gI",
        "outputId": "f9e228be-aab2-4e66-8110-bd21b170c71a"
      },
      "execution_count": 10,
      "outputs": [
        {
          "output_type": "stream",
          "name": "stdout",
          "text": [
            "25\n",
            "Anchal\n",
            "5.6\n",
            "100\n",
            "100\n",
            "100\n",
            "10\n",
            "20\n"
          ]
        }
      ]
    },
    {
      "cell_type": "code",
      "metadata": {
        "colab": {
          "base_uri": "https://localhost:8080/"
        },
        "id": "6b4d276f",
        "outputId": "f08be6be-8b14-4aa8-a3ff-287fda4e7d36"
      },
      "source": [
        "print(a, age, g, h, height, name, x, y, z)"
      ],
      "execution_count": 11,
      "outputs": [
        {
          "output_type": "stream",
          "name": "stdout",
          "text": [
            "25 23 10 20 5.6 Anchal 100 100 100\n"
          ]
        }
      ]
    },
    {
      "cell_type": "code",
      "source": [
        "#check data type\n",
        "\n",
        "print(type(a))\n",
        "print(type(name))\n",
        "print(type(height))\n",
        "print(type(g))\n",
        "print(type(h))\n"
      ],
      "metadata": {
        "colab": {
          "base_uri": "https://localhost:8080/"
        },
        "id": "6LjnF84IMoHe",
        "outputId": "e347f69d-4ad3-40f4-d12e-eafd22d80035"
      },
      "execution_count": 12,
      "outputs": [
        {
          "output_type": "stream",
          "name": "stdout",
          "text": [
            "<class 'int'>\n",
            "<class 'str'>\n",
            "<class 'float'>\n",
            "<class 'int'>\n",
            "<class 'int'>\n"
          ]
        }
      ]
    },
    {
      "cell_type": "markdown",
      "source": [
        "BASIC OPERATORS"
      ],
      "metadata": {
        "id": "Ac0jU7E5NIf-"
      }
    },
    {
      "cell_type": "code",
      "source": [
        "a = 10\n",
        "b = 3\n",
        "print(a+b) # Addition\n",
        "print(a-b) # Subtraction\n",
        "print(a*b) # multiplication\n",
        "print(a/b) # Division\n",
        "print(a//b) # Floor division- gives only whole number\n",
        "print(a%b) # Modulus, returns remainder\n",
        "print(a**b) # Power"
      ],
      "metadata": {
        "colab": {
          "base_uri": "https://localhost:8080/"
        },
        "id": "MKEkzzJrNG6_",
        "outputId": "99eb98c1-e882-417b-f56c-eae348414bd9"
      },
      "execution_count": 13,
      "outputs": [
        {
          "output_type": "stream",
          "name": "stdout",
          "text": [
            "13\n",
            "7\n",
            "30\n",
            "3.3333333333333335\n",
            "3\n",
            "1\n",
            "1000\n"
          ]
        }
      ]
    },
    {
      "cell_type": "markdown",
      "source": [
        "Calculate the average marks of a student, english = 78, maths = 89, science = 79"
      ],
      "metadata": {
        "id": "GzlyHcGgN88B"
      }
    },
    {
      "cell_type": "code",
      "source": [
        "eng = 78\n",
        "sci = 79\n",
        "maths = 89\n",
        "\n",
        "avg = (eng+sci+maths)/3\n",
        "print(\"Averege marks: \",avg)"
      ],
      "metadata": {
        "colab": {
          "base_uri": "https://localhost:8080/"
        },
        "id": "fKRgpS5RO3AG",
        "outputId": "dfe208f1-73d6-4c17-dcca-8ba57f6dbdca"
      },
      "execution_count": 14,
      "outputs": [
        {
          "output_type": "stream",
          "name": "stdout",
          "text": [
            "Averege marks:  82.0\n"
          ]
        }
      ]
    },
    {
      "cell_type": "markdown",
      "source": [
        "Exercises\n",
        "\n",
        "1) create variables:\n",
        "    your name, age, college name, GPA.\n",
        "    print the using print().\n",
        "\n",
        "2) Write a python program to calculate:\n",
        "    Area of rectangle (lenght * width)\n",
        "    perimeter of a rectangle (2 * (length + width))\n",
        "\n",
        "3) Bonus Challenge:\n",
        "    A shopkeeper sells apple at rupee 120/kg.\n",
        "    write a python program to calculate the cost of buying 3.5 kg apples.\n",
        "    "
      ],
      "metadata": {
        "id": "jP9undeePIE5"
      }
    },
    {
      "cell_type": "code",
      "source": [
        "# Exercise 1\n",
        "\n",
        "name = \"Anchal\"\n",
        "age = 35\n",
        "college_name = \"Jain University\"\n",
        "GPA = 9.2\n",
        "\n",
        "print(name, age, college_name, GPA)"
      ],
      "metadata": {
        "colab": {
          "base_uri": "https://localhost:8080/"
        },
        "id": "zMt2JO-LQXOZ",
        "outputId": "ab5898c3-d356-4f78-9067-4bc1ae34a4ca"
      },
      "execution_count": 15,
      "outputs": [
        {
          "output_type": "stream",
          "name": "stdout",
          "text": [
            "Anchal 35 Jain University 9.2\n"
          ]
        }
      ]
    },
    {
      "cell_type": "code",
      "source": [
        "# Exercise 2\n",
        "\n",
        "length = int(input(\"Enter the length of the rectangle: \"))\n",
        "width = int(input(\"Enter the width of the rectangle: \"))\n",
        "\n",
        "area = length * width\n",
        "perimeter = 2 * (length + width)\n",
        "\n",
        "print(\"The area of the rectangle is:\", area)\n",
        "print(\"The perimeter of the rectangle is:\", perimeter)"
      ],
      "metadata": {
        "colab": {
          "base_uri": "https://localhost:8080/"
        },
        "id": "xO5UbFMmRl_4",
        "outputId": "0d1043ed-4d84-4024-9889-efbb5694277f"
      },
      "execution_count": 16,
      "outputs": [
        {
          "output_type": "stream",
          "name": "stdout",
          "text": [
            "Enter the length of the rectangle: 23\n",
            "Enter the width of the rectangle: 2\n",
            "The area of the rectangle is: 46\n",
            "The perimeter of the rectangle is: 50\n"
          ]
        }
      ]
    },
    {
      "cell_type": "code",
      "source": [
        "# Exercise 3\n",
        "\n",
        "cost_per_kg = 120\n",
        "\n",
        "cost = 3.5 * cost_per_kg\n",
        "\n",
        "print(\"The cost of buying 3.5 kg apples is:\", cost)"
      ],
      "metadata": {
        "colab": {
          "base_uri": "https://localhost:8080/"
        },
        "id": "nnohTgoSR8td",
        "outputId": "d8293139-8218-4c4e-ea4d-9b364a3c253e"
      },
      "execution_count": 17,
      "outputs": [
        {
          "output_type": "stream",
          "name": "stdout",
          "text": [
            "The cost of buying 3.5 kg apples is: 420.0\n"
          ]
        }
      ]
    }
  ]
}
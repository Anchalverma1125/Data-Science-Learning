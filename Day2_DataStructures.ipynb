{
  "nbformat": 4,
  "nbformat_minor": 0,
  "metadata": {
    "colab": {
      "provenance": [],
      "authorship_tag": "ABX9TyMlICKJxSZYdtun0PNuNHMQ",
      "include_colab_link": true
    },
    "kernelspec": {
      "name": "python3",
      "display_name": "Python 3"
    },
    "language_info": {
      "name": "python"
    }
  },
  "cells": [
    {
      "cell_type": "markdown",
      "metadata": {
        "id": "view-in-github",
        "colab_type": "text"
      },
      "source": [
        "<a href=\"https://colab.research.google.com/github/Anchalverma1125/Data-Science-Learning/blob/main/Day2_DataStructures.ipynb\" target=\"_parent\"><img src=\"https://colab.research.google.com/assets/colab-badge.svg\" alt=\"Open In Colab\"/></a>"
      ]
    },
    {
      "cell_type": "markdown",
      "source": [
        "LIST\n",
        " It is an ordered, changeable collection of items, contain duplicate items, store mixed data types, and also store lists inside list.\n",
        "\n",
        " it is written in []"
      ],
      "metadata": {
        "id": "_QC2v8gVYDoM"
      }
    },
    {
      "cell_type": "code",
      "execution_count": null,
      "metadata": {
        "colab": {
          "base_uri": "https://localhost:8080/"
        },
        "id": "s9USaTaPX5DA",
        "outputId": "a3efd113-51bd-4640-b509-7d4f73cf126f"
      },
      "outputs": [
        {
          "output_type": "stream",
          "name": "stdout",
          "text": [
            "[58, 78, 90, 85, 63]\n",
            "<class 'list'>\n"
          ]
        }
      ],
      "source": [
        "# example list of numbers\n",
        "\n",
        "marks = [58, 78, 90, 85, 63]\n",
        "print(marks)\n",
        "print(type(marks))"
      ]
    },
    {
      "cell_type": "markdown",
      "source": [
        "creating list using constructor\n"
      ],
      "metadata": {
        "id": "T5KzDNelZ8ga"
      }
    },
    {
      "cell_type": "code",
      "source": [
        "a = list((1, 2.5, 'apple' ))\n",
        "print(a)\n",
        "print(type(a))"
      ],
      "metadata": {
        "colab": {
          "base_uri": "https://localhost:8080/"
        },
        "id": "N5chPuNOaCzT",
        "outputId": "b1308014-0638-4966-aa44-dba0861452bd"
      },
      "execution_count": null,
      "outputs": [
        {
          "output_type": "stream",
          "name": "stdout",
          "text": [
            "[1, 2.5, 'apple']\n",
            "<class 'list'>\n"
          ]
        }
      ]
    },
    {
      "cell_type": "markdown",
      "source": [
        "list with repeated elements"
      ],
      "metadata": {
        "id": "5joSLym5ailL"
      }
    },
    {
      "cell_type": "code",
      "source": [
        "a = [2] * 5\n",
        "b = [0] * 4\n",
        "print(a)\n",
        "print(b)\n"
      ],
      "metadata": {
        "colab": {
          "base_uri": "https://localhost:8080/"
        },
        "id": "-c7dcGGXaloR",
        "outputId": "4ed90bd0-69fd-409e-9bbb-d881d87b9ebc"
      },
      "execution_count": null,
      "outputs": [
        {
          "output_type": "stream",
          "name": "stdout",
          "text": [
            "[2, 2, 2, 2, 2]\n",
            "[0, 0, 0, 0]\n"
          ]
        }
      ]
    },
    {
      "cell_type": "markdown",
      "source": [
        "Acess elements in List\n"
      ],
      "metadata": {
        "id": "POhloNJZZGjz"
      }
    },
    {
      "cell_type": "code",
      "source": [
        "marks = [58, 78, 90, 85, 63]\n",
        "\n",
        "print(marks[0])\n",
        "print(marks[-1])\n",
        "print(marks[2:5])"
      ],
      "metadata": {
        "colab": {
          "base_uri": "https://localhost:8080/"
        },
        "id": "iBtr80duZN0d",
        "outputId": "19b25124-553d-4411-863b-360f7069a16a"
      },
      "execution_count": null,
      "outputs": [
        {
          "output_type": "stream",
          "name": "stdout",
          "text": [
            "58\n",
            "63\n",
            "[90, 85, 63]\n"
          ]
        }
      ]
    },
    {
      "cell_type": "markdown",
      "source": [
        "Adding elements to the list\n",
        "\n",
        "append() : add element at the end of the list\n",
        "\n",
        "extend() : add multiple element at the end of the list\n",
        "\n",
        "insert() : add element at specific index\n",
        "\n",
        "clear() : removes all items"
      ],
      "metadata": {
        "id": "uiR4LWhHa-SF"
      }
    },
    {
      "cell_type": "code",
      "source": [
        "a = []\n",
        "\n",
        "a.append(10)\n",
        "print(a)\n",
        "\n",
        "a.extend([20, 30, 40])\n",
        "print(a)\n",
        "\n",
        "a.insert(1, 50)\n",
        "print(a)\n",
        "\n",
        "a.clear()\n",
        "print(a)\n",
        "\n"
      ],
      "metadata": {
        "colab": {
          "base_uri": "https://localhost:8080/"
        },
        "id": "4QSI_MhpZuB7",
        "outputId": "95d37554-886e-4df1-d5fd-414606cbcef9"
      },
      "execution_count": null,
      "outputs": [
        {
          "output_type": "stream",
          "name": "stdout",
          "text": [
            "[10]\n",
            "[10, 20, 30, 40]\n",
            "[10, 50, 20, 30, 40]\n",
            "[]\n"
          ]
        }
      ]
    },
    {
      "cell_type": "markdown",
      "source": [
        "Remove elements from the list\n",
        "\n",
        "remove() : removes the first occerence of an element.\n",
        "\n",
        "pop() : removes the item at a specific index, if index is not specified, last element will be deleted\n",
        "\n",
        "del statement : deletes an element at specified index"
      ],
      "metadata": {
        "id": "GMcMZNEmeloO"
      }
    },
    {
      "cell_type": "code",
      "source": [
        "a = [10, 15, 20, 30, 20, 50, 60, 20]\n",
        "\n",
        "a.remove(20)\n",
        "print(a)\n",
        "\n",
        "a.pop(1)\n",
        "print(a)\n",
        "\n",
        "a.pop()\n",
        "print(a)\n",
        "\n",
        "del a[2]\n",
        "print(a)\n"
      ],
      "metadata": {
        "colab": {
          "base_uri": "https://localhost:8080/"
        },
        "id": "FbaUvxlMfToF",
        "outputId": "7bef9ae2-995c-4f0b-aaf8-d0aac6684868"
      },
      "execution_count": null,
      "outputs": [
        {
          "output_type": "stream",
          "name": "stdout",
          "text": [
            "[10, 15, 30, 20, 50, 60, 20]\n",
            "[10, 30, 20, 50, 60, 20]\n",
            "[10, 30, 20, 50, 60]\n",
            "[10, 30, 50, 60]\n"
          ]
        }
      ]
    },
    {
      "cell_type": "markdown",
      "source": [
        "Exercise: create a list of five favourite movies\n",
        "\n",
        "print the first and last movie.\n",
        "Add one more movie to the list."
      ],
      "metadata": {
        "id": "TK1NRvP284Rz"
      }
    },
    {
      "cell_type": "code",
      "source": [
        "movies = [\"Inception\", \"Avengers\", \"Spiderman\", \"Last of us\", \"Game of Thrones\"]\n",
        "print(movies[0])\n",
        "print(movies[-1])\n",
        "\n",
        "movies.append(\"The Matrix\")\n",
        "print(movies)"
      ],
      "metadata": {
        "colab": {
          "base_uri": "https://localhost:8080/"
        },
        "id": "TkwsBuB59RCi",
        "outputId": "ce35a244-c86b-4a73-b5fa-da1b90d00a97"
      },
      "execution_count": 15,
      "outputs": [
        {
          "output_type": "stream",
          "name": "stdout",
          "text": [
            "Inception\n",
            "Game of Thrones\n",
            "['Inception', 'Avengers', 'Spiderman', 'Last of us', 'Game of Thrones', 'The Matrix']\n"
          ]
        }
      ]
    },
    {
      "cell_type": "markdown",
      "source": [
        "TUPLES\n",
        "\n",
        "A tuple is like a list but immutable (unchangable), ordered, heterogenous\n",
        "\n",
        "written inside ()\n"
      ],
      "metadata": {
        "id": "Vxp-jakYx6Uy"
      }
    },
    {
      "cell_type": "code",
      "source": [
        "# creating a tuple\n",
        "\n",
        "tup = ()\n",
        "print(tup)\n",
        "print(type(tup))\n",
        "\n",
        "# using list\n",
        "\n",
        "l = [1, 2, 3, 4, 5]\n",
        "print(tuple(l))\n",
        "\n",
        "# using built-in function\n",
        "\n",
        "tup = tuple(\"Anchal\")\n",
        "print(tup)\n",
        "\n",
        "# using mixed data type\n",
        "\n",
        "tup = (1, 2.5, 'apple')\n",
        "print(tup)\n",
        "\n",
        "# A tuple with nested tuple\n",
        "\n",
        "tup1 = (1, 2, 3, 4, 5)\n",
        "tup2 = ('a', 'b', 'c')\n",
        "tup3 = (tup1, tup2)\n",
        "print(tup3)\n",
        "\n",
        "# tuple with repetition\n",
        "\n",
        "tup = ('a', 'b', 'c') * 3\n",
        "print(tup)\n",
        "\n",
        "# creating tuple with the use of loop\n",
        "\n",
        "tup = (\"Apple\")\n",
        "n = 5\n",
        "for i in range(int(n)):\n",
        "  tup = (tup,)\n",
        "print(tup)"
      ],
      "metadata": {
        "colab": {
          "base_uri": "https://localhost:8080/"
        },
        "id": "1ZYqEEHGeo1h",
        "outputId": "012793c6-d81e-48d6-e256-f998845eb0ba"
      },
      "execution_count": 1,
      "outputs": [
        {
          "output_type": "stream",
          "name": "stdout",
          "text": [
            "()\n",
            "<class 'tuple'>\n",
            "(1, 2, 3, 4, 5)\n",
            "('A', 'n', 'c', 'h', 'a', 'l')\n",
            "(1, 2.5, 'apple')\n",
            "((1, 2, 3, 4, 5), ('a', 'b', 'c'))\n",
            "('a', 'b', 'c', 'a', 'b', 'c', 'a', 'b', 'c')\n",
            "((((('Apple',),),),),)\n"
          ]
        }
      ]
    },
    {
      "cell_type": "markdown",
      "source": [
        "Tuple basic operations\n",
        "\n",
        "1) Accessing elements of tuple\n",
        "\n",
        "2) Concatenation of tuple\n",
        "\n",
        "3) slicing of tuple\n",
        "\n",
        "4) deleteing a tuple"
      ],
      "metadata": {
        "id": "hzY9xYJigUiq"
      }
    },
    {
      "cell_type": "code",
      "source": [
        "# accessing tuple with indexing\n",
        "tup = tuple(\"Anchal\")\n",
        "print(\"first element\",tup[0])\n",
        "print(\"last element\",tup[-1])\n",
        "\n",
        "#accessing a range of elements\n",
        "print(tup[1:4])\n",
        "print(tup[:3])\n",
        "\n",
        "#tuple unpacking\n",
        "tup = (\"pyhton\", \"java\", \"c++\")\n",
        "a, b, c = tup\n",
        "print(a, b, c)\n",
        "\n",
        "# concatenation of tuple\n",
        "\n",
        "tup1 = (1, 2, 3)\n",
        "tup2 = (4, 5, 6)\n",
        "tup3 = tup1 + tup2\n",
        "print(tup3)\n",
        "\n",
        "# Slicing of tuple - creating subset tuple from original tuple\n",
        "\n",
        "tup = tuple('ABCDEFGH')\n",
        "print(tup[1:]) # removing first element\n",
        "print(tup[::-1])  # reversing the tuple\n",
        "print(tup[2:5]) # printing range of elements\n",
        "\n",
        "# deleting a tuple - we cannot del the element (immutable characteristic), del entire tuple.\n",
        "\n",
        "tup0 = (\"Apple\",\"mango\",\"banana\")\n",
        "print(tup0)\n",
        "del tup0\n",
        "print(tup0) # this gives error as tuple (tup0) doesn't exist.\n",
        "\n"
      ],
      "metadata": {
        "colab": {
          "base_uri": "https://localhost:8080/",
          "height": 367
        },
        "id": "c4PuiTLggz0C",
        "outputId": "595d2b10-3a38-4cb3-d4c9-837510c8cc57"
      },
      "execution_count": 5,
      "outputs": [
        {
          "output_type": "stream",
          "name": "stdout",
          "text": [
            "first element A\n",
            "last element l\n",
            "('n', 'c', 'h')\n",
            "('A', 'n', 'c')\n",
            "pyhton java c++\n",
            "(1, 2, 3, 4, 5, 6)\n",
            "('B', 'C', 'D', 'E', 'F', 'G', 'H')\n",
            "('H', 'G', 'F', 'E', 'D', 'C', 'B', 'A')\n",
            "('C', 'D', 'E')\n",
            "('Apple', 'mango', 'banana')\n"
          ]
        },
        {
          "output_type": "error",
          "ename": "NameError",
          "evalue": "name 'tup0' is not defined",
          "traceback": [
            "\u001b[0;31m---------------------------------------------------------------------------\u001b[0m",
            "\u001b[0;31mNameError\u001b[0m                                 Traceback (most recent call last)",
            "\u001b[0;32m/tmp/ipython-input-53171536.py\u001b[0m in \u001b[0;36m<cell line: 0>\u001b[0;34m()\u001b[0m\n\u001b[1;32m     32\u001b[0m \u001b[0mprint\u001b[0m\u001b[0;34m(\u001b[0m\u001b[0mtup0\u001b[0m\u001b[0;34m)\u001b[0m\u001b[0;34m\u001b[0m\u001b[0;34m\u001b[0m\u001b[0m\n\u001b[1;32m     33\u001b[0m \u001b[0;32mdel\u001b[0m \u001b[0mtup0\u001b[0m\u001b[0;34m\u001b[0m\u001b[0;34m\u001b[0m\u001b[0m\n\u001b[0;32m---> 34\u001b[0;31m \u001b[0mprint\u001b[0m\u001b[0;34m(\u001b[0m\u001b[0mtup0\u001b[0m\u001b[0;34m)\u001b[0m\u001b[0;34m\u001b[0m\u001b[0;34m\u001b[0m\u001b[0m\n\u001b[0m\u001b[1;32m     35\u001b[0m \u001b[0;34m\u001b[0m\u001b[0m\n",
            "\u001b[0;31mNameError\u001b[0m: name 'tup0' is not defined"
          ]
        }
      ]
    },
    {
      "cell_type": "markdown",
      "source": [
        "Exercise: create a tuple of 3 countries you want to visit. print them one by one."
      ],
      "metadata": {
        "id": "bRwxLIKc96JF"
      }
    },
    {
      "cell_type": "code",
      "source": [
        "countries = (\"Switzerland\", \"USA\", \"UK\")\n",
        "for country in countries:\n",
        "  print(country)"
      ],
      "metadata": {
        "colab": {
          "base_uri": "https://localhost:8080/"
        },
        "id": "3shC39lU-LNM",
        "outputId": "a4ee751f-67cf-4e7d-8c3c-c51243210dc1"
      },
      "execution_count": 17,
      "outputs": [
        {
          "output_type": "stream",
          "name": "stdout",
          "text": [
            "Switzerland\n",
            "USA\n",
            "UK\n"
          ]
        }
      ]
    },
    {
      "cell_type": "markdown",
      "source": [
        "Dictionary - store values in key:value pairs using hashing,\n",
        "keys must be unique and immutable\n",
        "values may contain any datatype and duplicate."
      ],
      "metadata": {
        "id": "5gaoShgEkTlg"
      }
    },
    {
      "cell_type": "code",
      "source": [
        "# creating a dictionary\n",
        "\n",
        "d = {1: 'Apple', 2: 'Mango', 3: 'Banana'}\n",
        "print(d)\n",
        "\n",
        "# create dictionary using dict() constructor\n",
        "d2 = dict(a = \"Honey bee\", b = \"makes\", c = \"Honey\")\n",
        "print(d2)"
      ],
      "metadata": {
        "colab": {
          "base_uri": "https://localhost:8080/"
        },
        "id": "JGMopJx554MS",
        "outputId": "a489d3b8-a90f-421a-ddc1-a6324aa52754"
      },
      "execution_count": 6,
      "outputs": [
        {
          "output_type": "stream",
          "name": "stdout",
          "text": [
            "{1: 'Apple', 2: 'Mango', 3: 'Banana'}\n",
            "{'a': 'Honey bee', 'b': 'makes', 'c': 'Honey'}\n"
          ]
        }
      ]
    },
    {
      "cell_type": "markdown",
      "source": [
        "Operations on dictionary\n"
      ],
      "metadata": {
        "id": "G0Z4XKcP6gIg"
      }
    },
    {
      "cell_type": "code",
      "source": [
        "d = { \"name\": \"Anchal\", 1: \"Python\", (1, 2): [1,2,4] }\n",
        "\n",
        "# Access using key\n",
        "print(d[\"name\"])\n",
        "\n",
        "# Access using get()\n",
        "print(d.get(\"name\"))"
      ],
      "metadata": {
        "colab": {
          "base_uri": "https://localhost:8080/"
        },
        "id": "jm39x9aR6kXE",
        "outputId": "796e60fa-5370-4adc-8184-df0556893a5b"
      },
      "execution_count": 7,
      "outputs": [
        {
          "output_type": "stream",
          "name": "stdout",
          "text": [
            "Anchal\n",
            "Anchal\n"
          ]
        }
      ]
    },
    {
      "cell_type": "code",
      "source": [
        "d = {1: 'Honey bee', 2: 'learn', 3: 'python'}\n",
        "\n",
        "# Adding a new key-value pair\n",
        "d[4] = 'java'\n",
        "\n",
        "# Updating an existing value\n",
        "d[3] = \"Python dict\"\n",
        "\n",
        "print(d)"
      ],
      "metadata": {
        "colab": {
          "base_uri": "https://localhost:8080/"
        },
        "id": "rMcxCwKU6zng",
        "outputId": "be236072-85a9-4e0f-b948-6cc79fed5bd9"
      },
      "execution_count": 10,
      "outputs": [
        {
          "output_type": "stream",
          "name": "stdout",
          "text": [
            "{1: 'Honey bee', 2: 'learn', 3: 'Python dict', 4: 'java'}\n"
          ]
        }
      ]
    },
    {
      "cell_type": "code",
      "source": [
        "\n",
        "d = {1: 'Honey bee', 2: 'learn', 3: 'Python dict', 4: 'java'}\n",
        "\n",
        "# Using del to remove an item\n",
        "del d[4]\n",
        "print(\"After del\",d)\n",
        "\n",
        "# Using pop() to remove an item and return the value\n",
        "val = d.pop(1)\n",
        "print(val)\n",
        "print(\"After pop()\",d)\n",
        "\n",
        "# Using popitem to removes and returns\n",
        "# the last key-value pair.\n",
        "key, val = d.popitem()\n",
        "print(f\"Key: {key}, Value: {val}\")\n",
        "print(\"After popitem()\",d)\n",
        "\n",
        "# Clear all items from the dictionary\n",
        "d.clear()\n",
        "print(d)"
      ],
      "metadata": {
        "colab": {
          "base_uri": "https://localhost:8080/"
        },
        "id": "FtsmNTCn7R-5",
        "outputId": "dcbc6e77-693c-4df4-b114-bfe3d487f96d"
      },
      "execution_count": 12,
      "outputs": [
        {
          "output_type": "stream",
          "name": "stdout",
          "text": [
            "After del {1: 'Honey bee', 2: 'learn', 3: 'Python dict'}\n",
            "Honey bee\n",
            "After pop() {2: 'learn', 3: 'Python dict'}\n",
            "Key: 3, Value: Python dict\n",
            "After popitem() {2: 'learn'}\n",
            "{}\n"
          ]
        }
      ]
    },
    {
      "cell_type": "markdown",
      "source": [
        "Exercises: create a dictionary of 3 employees:\n",
        "each should have a name, age, and salary,\n",
        "print the salary of one employee.\n",
        "\n"
      ],
      "metadata": {
        "id": "XuTwHCdI8dfR"
      }
    },
    {
      "cell_type": "code",
      "source": [
        "d = {'Emp1':{\"name\": \"Anchal\", \"age\": 20, \"salary\": 10000},\n",
        "     'Emp2':{\"name\": \"John\", \"age\": 32, \"salary\": 150000},\n",
        "     'Emp3':{\"name\": \"Jonathan\", \"age\": 25, \"salary\": 120000}}\n",
        "print(\"John salary is :\",d['Emp2']['salary'])"
      ],
      "metadata": {
        "colab": {
          "base_uri": "https://localhost:8080/"
        },
        "id": "3G1KxqAx_DE3",
        "outputId": "77354325-46b8-4989-c349-3bed568fea4f"
      },
      "execution_count": 18,
      "outputs": [
        {
          "output_type": "stream",
          "name": "stdout",
          "text": [
            "John salary is : 150000\n"
          ]
        }
      ]
    },
    {
      "cell_type": "markdown",
      "source": [
        "Create a gradebook of students and find the top Scorer."
      ],
      "metadata": {
        "id": "s_hsRnmuARc0"
      }
    },
    {
      "cell_type": "code",
      "source": [
        "gradebook = {'Ravi':[85, 90, 65],\n",
        "             'Anchal':[81, 85, 88],\n",
        "             'Aryan':[90, 75, 87]}\n",
        "\n",
        "#find the top scorer\n",
        "top_scorer = None\n",
        "max_score = 0\n",
        "\n",
        "for student, scores in gradebook.items():\n",
        "  total_score = sum(scores)/len(scores)\n",
        "  print(f\"{student}: {total_score}\")\n",
        "\n",
        "  if total_score > max_score:\n",
        "    max_score = total_score\n",
        "    top_scorer = student\n",
        "\n",
        "print(f\"\\nTop Scorer: {top_scorer} with {max_score :.2f} marks\")"
      ],
      "metadata": {
        "colab": {
          "base_uri": "https://localhost:8080/"
        },
        "id": "J2oo0NsJAhKD",
        "outputId": "1d65b522-d501-47e2-b720-ed02c90a5023"
      },
      "execution_count": 26,
      "outputs": [
        {
          "output_type": "stream",
          "name": "stdout",
          "text": [
            "Ravi: 80.0\n",
            "Anchal: 84.66666666666667\n",
            "Aryan: 84.0\n",
            "\n",
            "Top Scorer: Anchal with 84.67 marks\n"
          ]
        }
      ]
    }
  ]
}
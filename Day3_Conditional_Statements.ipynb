{
  "nbformat": 4,
  "nbformat_minor": 0,
  "metadata": {
    "colab": {
      "provenance": [],
      "authorship_tag": "ABX9TyPzi9gYmT39/Q0GM+7qEqHA",
      "include_colab_link": true
    },
    "kernelspec": {
      "name": "python3",
      "display_name": "Python 3"
    },
    "language_info": {
      "name": "python"
    }
  },
  "cells": [
    {
      "cell_type": "markdown",
      "metadata": {
        "id": "view-in-github",
        "colab_type": "text"
      },
      "source": [
        "<a href=\"https://colab.research.google.com/github/Anchalverma1125/Data-Science-Learning/blob/main/Day3_Conditional_Statements.ipynb\" target=\"_parent\"><img src=\"https://colab.research.google.com/assets/colab-badge.svg\" alt=\"Open In Colab\"/></a>"
      ]
    },
    {
      "cell_type": "markdown",
      "source": [
        "Conditional statements in Python are used to execute certain blocks of code based on specific conditions.\n",
        "\n"
      ],
      "metadata": {
        "id": "Hz1jENtYqWQO"
      }
    },
    {
      "cell_type": "markdown",
      "source": [
        "If condition- It executes a block of code if the given condition is true.\n"
      ],
      "metadata": {
        "id": "bZ-ykPLOqg-x"
      }
    },
    {
      "cell_type": "code",
      "execution_count": 1,
      "metadata": {
        "colab": {
          "base_uri": "https://localhost:8080/"
        },
        "id": "Z5_K6-Y1qA8Z",
        "outputId": "f4b55cec-9746-4dc3-cc40-ff680a2127ae"
      },
      "outputs": [
        {
          "output_type": "stream",
          "name": "stdout",
          "text": [
            "Eligible to vote.\n"
          ]
        }
      ],
      "source": [
        "age = 20\n",
        "if age >= 18:\n",
        "    print(\"Eligible to vote.\")"
      ]
    },
    {
      "cell_type": "markdown",
      "source": [
        "If else Conditional Statement"
      ],
      "metadata": {
        "id": "6VnoQ4CCq6rN"
      }
    },
    {
      "cell_type": "code",
      "source": [
        "age = 10\n",
        "if age <= 12:\n",
        "    print(\"Travel for free.\")\n",
        "else:\n",
        "    print(\"Pay for ticket.\")"
      ],
      "metadata": {
        "colab": {
          "base_uri": "https://localhost:8080/"
        },
        "id": "e0ez0CRGq730",
        "outputId": "8459f325-8ab3-495b-d925-c3509fb334b0"
      },
      "execution_count": 2,
      "outputs": [
        {
          "output_type": "stream",
          "name": "stdout",
          "text": [
            "Travel for free.\n"
          ]
        }
      ]
    },
    {
      "cell_type": "markdown",
      "source": [
        "elif Statement\n"
      ],
      "metadata": {
        "id": "o5IhyaiorGrE"
      }
    },
    {
      "cell_type": "code",
      "source": [
        "age = 25\n",
        "\n",
        "if age <= 12:\n",
        "    print(\"Child.\")\n",
        "elif age <= 19:\n",
        "    print(\"Teenager.\")\n",
        "elif age <= 35:\n",
        "    print(\"Young adult.\")\n",
        "else:\n",
        "    print(\"Adult.\")"
      ],
      "metadata": {
        "colab": {
          "base_uri": "https://localhost:8080/"
        },
        "id": "IVQ2IqydrHwJ",
        "outputId": "1b6ae8d6-a26a-4355-f2e7-136d4a5e1482"
      },
      "execution_count": 3,
      "outputs": [
        {
          "output_type": "stream",
          "name": "stdout",
          "text": [
            "Young adult.\n"
          ]
        }
      ]
    },
    {
      "cell_type": "markdown",
      "source": [
        "Nested if..else Conditional Statement"
      ],
      "metadata": {
        "id": "lYxpgtLmrRBA"
      }
    },
    {
      "cell_type": "code",
      "source": [
        "age = 70\n",
        "is_member = True\n",
        "\n",
        "if age >= 60:\n",
        "    if is_member:\n",
        "        print(\"30% senior discount!\")\n",
        "    else:\n",
        "        print(\"20% senior discount.\")\n",
        "else:\n",
        "    print(\"Not eligible for a senior discount.\")"
      ],
      "metadata": {
        "colab": {
          "base_uri": "https://localhost:8080/"
        },
        "id": "hQc_pjl-rSXC",
        "outputId": "0faa3801-56b4-49c4-9ff3-3b39208e31dd"
      },
      "execution_count": 4,
      "outputs": [
        {
          "output_type": "stream",
          "name": "stdout",
          "text": [
            "30% senior discount!\n"
          ]
        }
      ]
    },
    {
      "cell_type": "markdown",
      "source": [
        "Ternary Conditional Statement"
      ],
      "metadata": {
        "id": "20JzNo1XrjpB"
      }
    },
    {
      "cell_type": "code",
      "source": [
        "# Assign a value based on a condition\n",
        "age = 20\n",
        "s = \"Adult\" if age >= 18 else \"Minor\"\n",
        "print(s)"
      ],
      "metadata": {
        "colab": {
          "base_uri": "https://localhost:8080/"
        },
        "id": "IEXdIP7arlC6",
        "outputId": "c6f808a7-82fb-4251-e3e8-a758c012db45"
      },
      "execution_count": 5,
      "outputs": [
        {
          "output_type": "stream",
          "name": "stdout",
          "text": [
            "Adult\n"
          ]
        }
      ]
    },
    {
      "cell_type": "markdown",
      "source": [
        "Match-Case Statement - it is the switch case in other languages"
      ],
      "metadata": {
        "id": "qHuwKNoQrr9X"
      }
    },
    {
      "cell_type": "code",
      "source": [
        "number = 4\n",
        "\n",
        "match number:\n",
        "    case 1:\n",
        "        print(\"One\")\n",
        "    case 2 | 3:\n",
        "        print(\"Two or Three\")\n",
        "    case _:\n",
        "        print(\"Other number\")"
      ],
      "metadata": {
        "colab": {
          "base_uri": "https://localhost:8080/"
        },
        "id": "t4LfdSGFr2wl",
        "outputId": "09114020-64d6-4606-9039-5307525d05fe"
      },
      "execution_count": 7,
      "outputs": [
        {
          "output_type": "stream",
          "name": "stdout",
          "text": [
            "Other number\n"
          ]
        }
      ]
    },
    {
      "cell_type": "markdown",
      "source": [
        "Exercise:\n",
        "Check a number is even or odd."
      ],
      "metadata": {
        "id": "p-jtMVRqtZNX"
      }
    },
    {
      "cell_type": "code",
      "source": [
        "num = int(input(\"Enter a number: \"))\n",
        "\n",
        "if num % 2 == 0:\n",
        "    print(\"Even\")\n",
        "else:\n",
        "    print(\"Odd\")"
      ],
      "metadata": {
        "colab": {
          "base_uri": "https://localhost:8080/"
        },
        "id": "PqSValTstkSp",
        "outputId": "3ab88fd3-3ade-4cd6-afe0-2cafaf7f2d38"
      },
      "execution_count": 10,
      "outputs": [
        {
          "output_type": "stream",
          "name": "stdout",
          "text": [
            "Enter a number: 0\n",
            "Even\n"
          ]
        }
      ]
    }
  ]
}
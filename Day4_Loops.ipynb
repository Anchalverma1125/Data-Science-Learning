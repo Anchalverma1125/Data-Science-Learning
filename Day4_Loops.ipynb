{
  "nbformat": 4,
  "nbformat_minor": 0,
  "metadata": {
    "colab": {
      "provenance": [],
      "authorship_tag": "ABX9TyPuntGme+hzGA+83XWYBzZF",
      "include_colab_link": true
    },
    "kernelspec": {
      "name": "python3",
      "display_name": "Python 3"
    },
    "language_info": {
      "name": "python"
    }
  },
  "cells": [
    {
      "cell_type": "markdown",
      "metadata": {
        "id": "view-in-github",
        "colab_type": "text"
      },
      "source": [
        "<a href=\"https://colab.research.google.com/github/Anchalverma1125/Data-Science-Learning/blob/main/Day4_Loops.ipynb\" target=\"_parent\"><img src=\"https://colab.research.google.com/assets/colab-badge.svg\" alt=\"Open In Colab\"/></a>"
      ]
    },
    {
      "cell_type": "markdown",
      "source": [
        "loop is used to repeat a code multiple number of times, without writting it again and again. and user know the number of repetition (how many times a loop executed.)\n",
        "\n",
        "two main types of loops in python:\n",
        "\n",
        "for loop and while loop."
      ],
      "metadata": {
        "id": "aFDbVA58J7wz"
      }
    },
    {
      "cell_type": "code",
      "source": [
        "n = 5\n",
        "for i in range(1, n+1):\n",
        "    print(i)"
      ],
      "metadata": {
        "colab": {
          "base_uri": "https://localhost:8080/"
        },
        "id": "vBHpeKUeLSbw",
        "outputId": "49de3e77-3069-4dc8-c302-ab1bf0e0c14c"
      },
      "execution_count": null,
      "outputs": [
        {
          "output_type": "stream",
          "name": "stdout",
          "text": [
            "1\n",
            "2\n",
            "3\n",
            "4\n",
            "5\n"
          ]
        }
      ]
    },
    {
      "cell_type": "markdown",
      "source": [
        "For loop\n",
        "\n",
        "loop through a list, tuple, string and dictionary"
      ],
      "metadata": {
        "id": "ZKuFXqyVLBvI"
      }
    },
    {
      "cell_type": "code",
      "execution_count": null,
      "metadata": {
        "colab": {
          "base_uri": "https://localhost:8080/"
        },
        "id": "uSRsLFxIJwzk",
        "outputId": "9227f5ea-365f-40a3-bd97-a1de900e129f"
      },
      "outputs": [
        {
          "output_type": "stream",
          "name": "stdout",
          "text": [
            "Iterate over list\n",
            "Apple\n",
            "Mango\n",
            "Banana\n",
            "Iterate over tuple\n",
            "Apple\n",
            "Mango\n",
            "Banana\n",
            "Iterate over string\n",
            "A\n",
            "p\n",
            "p\n",
            "l\n",
            "e\n",
            "Iterate over dictionary\n",
            "x  123\n",
            "y  354\n",
            "Iterate over sets\n",
            "1\n",
            "2\n",
            "3\n",
            "4\n",
            "5\n",
            "6\n"
          ]
        }
      ],
      "source": [
        "li = [\"Apple\", \"Mango\", \"Banana\"]\n",
        "print(\"Iterate over list\")\n",
        "for i in li:\n",
        "    print(i)\n",
        "\n",
        "tup = (\"Apple\", \"Mango\", \"Banana\")\n",
        "print(\"Iterate over tuple\")\n",
        "for i in tup:\n",
        "    print(i)\n",
        "\n",
        "s = \"Apple\"\n",
        "print(\"Iterate over string\")\n",
        "for i in s:\n",
        "    print(i)\n",
        "\n",
        "d = dict({'x':123, 'y':354})\n",
        "print(\"Iterate over dictionary\")\n",
        "for i in d:\n",
        "    print(\"%s  %d\" % (i, d[i]))\n",
        "\n",
        "set1 = {1, 2, 3, 4, 5, 6}\n",
        "print(\"Iterate over sets\")\n",
        "for i in set1:\n",
        "    print(i),"
      ]
    },
    {
      "cell_type": "markdown",
      "source": [
        "iterating by index"
      ],
      "metadata": {
        "id": "Jk9LKbj7J6wf"
      }
    },
    {
      "cell_type": "code",
      "source": [
        "li = [\"Apple\", \"Mango\", \"Apricot\"]\n",
        "for index in range(len(li)): #len() returns the number of items in a container\n",
        "    print(li[index])"
      ],
      "metadata": {
        "colab": {
          "base_uri": "https://localhost:8080/"
        },
        "id": "TTHemlb_M7sD",
        "outputId": "8fe13fba-ba84-4306-e8b1-3032d427cd82"
      },
      "execution_count": null,
      "outputs": [
        {
          "output_type": "stream",
          "name": "stdout",
          "text": [
            "Apple\n",
            "Mango\n",
            "Apricot\n"
          ]
        }
      ]
    },
    {
      "cell_type": "markdown",
      "source": [
        "Exercise: Sum of Numbers 1 to 10"
      ],
      "metadata": {
        "id": "OYClbyreNZlD"
      }
    },
    {
      "cell_type": "code",
      "source": [
        "sum = 0\n",
        "for i in range (1, 11):\n",
        "  sum += i\n",
        "\n",
        "print(\"sum of numbers 1 to 10 is: \",sum)"
      ],
      "metadata": {
        "colab": {
          "base_uri": "https://localhost:8080/"
        },
        "id": "td-ygOefNe-p",
        "outputId": "6f694ae4-5b60-45f2-f79b-b73fc6f2bba8"
      },
      "execution_count": null,
      "outputs": [
        {
          "output_type": "stream",
          "name": "stdout",
          "text": [
            "sum of numbers 1 to 10 is:  55\n"
          ]
        }
      ]
    },
    {
      "cell_type": "markdown",
      "source": [
        "While loop is also used to repeat a code until the condition becomes false."
      ],
      "metadata": {
        "id": "0F6PM6FON5Xb"
      }
    },
    {
      "cell_type": "code",
      "source": [
        "n = 1\n",
        "while n <= 4:\n",
        "  print(\"value of n in each iteration: \",n)\n",
        "  print(\"Hello!!\")\n",
        "  n += 1\n"
      ],
      "metadata": {
        "colab": {
          "base_uri": "https://localhost:8080/"
        },
        "id": "B_86Xf9jOok5",
        "outputId": "4e7d1bbc-d270-4350-dddf-2f4a9081f8bf"
      },
      "execution_count": null,
      "outputs": [
        {
          "output_type": "stream",
          "name": "stdout",
          "text": [
            "value of n in each iteration:  1\n",
            "Hello!!\n",
            "value of n in each iteration:  2\n",
            "Hello!!\n",
            "value of n in each iteration:  3\n",
            "Hello!!\n",
            "value of n in each iteration:  4\n",
            "Hello!!\n"
          ]
        }
      ]
    },
    {
      "cell_type": "markdown",
      "source": [
        "Nested loop"
      ],
      "metadata": {
        "id": "ZCUrPvb9LA5P"
      }
    },
    {
      "cell_type": "code",
      "source": [
        "for i  in range (0,5):\n",
        "  for j in range(i):\n",
        "    print(i,end=' ')\n",
        "  print()"
      ],
      "metadata": {
        "colab": {
          "base_uri": "https://localhost:8080/"
        },
        "id": "zlBa3TuPKXa0",
        "outputId": "4ae17695-c636-47f5-938c-5c12943be341"
      },
      "execution_count": 1,
      "outputs": [
        {
          "output_type": "stream",
          "name": "stdout",
          "text": [
            "\n",
            "1 \n",
            "2 2 \n",
            "3 3 3 \n",
            "4 4 4 4 \n"
          ]
        }
      ]
    },
    {
      "cell_type": "markdown",
      "source": [
        "Control Statement: continue, break, pass\n",
        "\n",
        "Continue Stetement: it returns the control to the beginning of the loop. it is used to skip the current iteration of loop and move to the next iteration."
      ],
      "metadata": {
        "id": "ONvjyBI7LIR0"
      }
    },
    {
      "cell_type": "code",
      "source": [
        "for i in range(0,5):\n",
        "  if i==3:\n",
        "    continue\n",
        "  print (\"current value of i is: \",i)"
      ],
      "metadata": {
        "colab": {
          "base_uri": "https://localhost:8080/"
        },
        "id": "f0j1dD6SLoE3",
        "outputId": "f88661f7-8896-4aa1-f1f1-29e93db38391"
      },
      "execution_count": 2,
      "outputs": [
        {
          "output_type": "stream",
          "name": "stdout",
          "text": [
            "current value of i is:  0\n",
            "current value of i is:  1\n",
            "current value of i is:  2\n",
            "current value of i is:  4\n"
          ]
        }
      ]
    },
    {
      "cell_type": "markdown",
      "source": [
        "Break statement: It takes the control out of the loop"
      ],
      "metadata": {
        "id": "ACjhi8OlMYUA"
      }
    },
    {
      "cell_type": "code",
      "source": [
        "for i in range(0,5):\n",
        "  if i==3:\n",
        "    break\n",
        "  print (\"current value of i is: \",i)"
      ],
      "metadata": {
        "colab": {
          "base_uri": "https://localhost:8080/"
        },
        "id": "8_eNu1-NMh09",
        "outputId": "dd9a8b06-87a1-4915-8999-5eb0df46d009"
      },
      "execution_count": 3,
      "outputs": [
        {
          "output_type": "stream",
          "name": "stdout",
          "text": [
            "current value of i is:  0\n",
            "current value of i is:  1\n",
            "current value of i is:  2\n"
          ]
        }
      ]
    },
    {
      "cell_type": "markdown",
      "source": [
        "Pass Statement: used to write empty loops, functions, and classes. you can write these later."
      ],
      "metadata": {
        "id": "fQEMxQbdMwP8"
      }
    },
    {
      "cell_type": "code",
      "source": [
        "for i in range(0,5):\n",
        "  pass\n",
        "print (\"last value of i is: \",i)"
      ],
      "metadata": {
        "colab": {
          "base_uri": "https://localhost:8080/"
        },
        "id": "beHZZmrmNKnq",
        "outputId": "99c384f8-eb3a-4d81-d5d1-2bdd0d6bbb42"
      },
      "execution_count": 6,
      "outputs": [
        {
          "output_type": "stream",
          "name": "stdout",
          "text": [
            "last value of i is:  4\n"
          ]
        }
      ]
    },
    {
      "cell_type": "markdown",
      "source": [
        "Exercise: Print all even numbers between 1 and 50 using a 'for loop'."
      ],
      "metadata": {
        "id": "keDkdqnzSU9U"
      }
    },
    {
      "cell_type": "code",
      "source": [
        "print(\"Even numbers between 1 and 50:\")\n",
        "for i in range(1,51):\n",
        "  if i % 2 == 0:\n",
        "    print(i)\n"
      ],
      "metadata": {
        "colab": {
          "base_uri": "https://localhost:8080/"
        },
        "id": "TMv_N3jKSsrY",
        "outputId": "ca4cd6e1-3f6f-492f-ff83-92ee17e10065"
      },
      "execution_count": 19,
      "outputs": [
        {
          "output_type": "stream",
          "name": "stdout",
          "text": [
            "Even numbers between 1 and 50:\n",
            "2\n",
            "4\n",
            "6\n",
            "8\n",
            "10\n",
            "12\n",
            "14\n",
            "16\n",
            "18\n",
            "20\n",
            "22\n",
            "24\n",
            "26\n",
            "28\n",
            "30\n",
            "32\n",
            "34\n",
            "36\n",
            "38\n",
            "40\n",
            "42\n",
            "44\n",
            "46\n",
            "48\n",
            "50\n"
          ]
        }
      ]
    },
    {
      "cell_type": "markdown",
      "source": [
        "Exercise: calculate the factorial of a number using 'while loop'"
      ],
      "metadata": {
        "id": "73KVXbX0TjCw"
      }
    },
    {
      "cell_type": "code",
      "source": [
        "num = int(input(\"Enter a number for its factorial : \"))\n",
        "fact = 1\n",
        "n = num\n",
        "while n > 0:\n",
        "  fact *= n\n",
        "  n = n - 1\n",
        "print(\"factorial of a given number is : \",fact)"
      ],
      "metadata": {
        "colab": {
          "base_uri": "https://localhost:8080/"
        },
        "id": "eo52xYiETxaG",
        "outputId": "eac53237-4196-406b-c473-a967207e5a5b"
      },
      "execution_count": 23,
      "outputs": [
        {
          "output_type": "stream",
          "name": "stdout",
          "text": [
            "Enter a number for its factorial : 4\n",
            "factorial of a given number is :  24\n"
          ]
        }
      ]
    },
    {
      "cell_type": "markdown",
      "source": [
        "Exercise: from a list of numbers, print only those greater than 50."
      ],
      "metadata": {
        "id": "rfJqLy96XXXo"
      }
    },
    {
      "cell_type": "code",
      "source": [
        "li = [10, 56, 78, 45, 52, 65, 49, 28, 89, 102]\n",
        "for i in range(len(li)):\n",
        "  if li[i] > 50:\n",
        "    print(li[i])\n"
      ],
      "metadata": {
        "colab": {
          "base_uri": "https://localhost:8080/"
        },
        "id": "Sm5IcMAOXueF",
        "outputId": "7eabf606-ece5-4367-afe1-d6846fab8645"
      },
      "execution_count": 26,
      "outputs": [
        {
          "output_type": "stream",
          "name": "stdout",
          "text": [
            "56\n",
            "78\n",
            "52\n",
            "65\n",
            "89\n",
            "102\n"
          ]
        }
      ]
    },
    {
      "cell_type": "markdown",
      "source": [
        "Exercise: Dictionary of students with marks. print pass/fail"
      ],
      "metadata": {
        "id": "Hu-lbHilZKmT"
      }
    },
    {
      "cell_type": "code",
      "source": [
        "student = {\n",
        "    'Alice' : 85,\n",
        "    'Bob' : 42,\n",
        "    'Honey' : 25,\n",
        "    'Monte' : 95\n",
        "    }\n",
        "print(\"Pass/Fail Results:\")\n",
        "\n",
        "for i in student:\n",
        "  if student[i] >= 40:\n",
        "    print(i,\"pass\")\n",
        "  else:\n",
        "    print(i,\"fail\")\n",
        ""
      ],
      "metadata": {
        "colab": {
          "base_uri": "https://localhost:8080/"
        },
        "id": "9qf2o0rLZU6f",
        "outputId": "4dd3d29a-cc94-4dd8-c520-a27570e1b746"
      },
      "execution_count": 30,
      "outputs": [
        {
          "output_type": "stream",
          "name": "stdout",
          "text": [
            "Pass/Fail Results:\n",
            "Alice pass\n",
            "Bob pass\n",
            "Honey fail\n",
            "Monte pass\n"
          ]
        }
      ]
    },
    {
      "cell_type": "markdown",
      "source": [
        "Mini Project: ATM Machine Simulator"
      ],
      "metadata": {
        "id": "iLuMhBQ_eTTq"
      }
    },
    {
      "cell_type": "code",
      "source": [
        "# Initial balance and pin of user\n",
        "balance = 1000\n",
        "pin = \"12345\"\n",
        "\n",
        "print(\"Welcome to the Bank\")\n",
        "\n",
        "# pin verification\n",
        "entered_pin = input(\"Enter your ATM PIN : \")\n",
        "\n",
        "if entered_pin == pin:\n",
        "  print(\"PIN Verified\")\n",
        "  while True:         # keep showing menu until user choose to exit\n",
        "    print(\"\\n\\n----ATM MENU----\")\n",
        "    print(\"1. Check Balance\")\n",
        "    print(\"2. Deposit Money\")\n",
        "    print(\"3. Withdraw Money\")\n",
        "    print(\"4. Exit\")\n",
        "\n",
        "    choice = input(\"Enter your choice (1-4) : \")\n",
        "    if choice == '1':\n",
        "        print(f\"Your Balance : {balance}\")\n",
        "\n",
        "    elif choice == '2':\n",
        "        amount = float(input(\"Enter amount to deposit : \"))\n",
        "        balance += amount\n",
        "        print(f\"{amount} deposited. Updated Balance : {balance}\")\n",
        "\n",
        "    elif choice == '3':\n",
        "        amount = float(input(\"Enter amount to withdraw : \"))\n",
        "        if amount <= balance:\n",
        "          balance -= amount\n",
        "          print(f\"{amount} withdrawn. Updated Balance : {balance}\")\n",
        "        else:\n",
        "          print(\"Insufficient balance.\")\n",
        "\n",
        "    elif choice == '4':\n",
        "          print(\"Thank you for using the ATM. Goodbye!\")\n",
        "          break\n",
        "\n",
        "    else:\n",
        "        print(\"Invalid choice. Please select a valid option.\")\n",
        "\n",
        "else :\n",
        "    print(\"Invalid PIN. Access Denied.\")"
      ],
      "metadata": {
        "colab": {
          "base_uri": "https://localhost:8080/"
        },
        "id": "OofviqJTejkr",
        "outputId": "0930d422-14ad-4bf8-fdc7-531562c71845"
      },
      "execution_count": 43,
      "outputs": [
        {
          "output_type": "stream",
          "name": "stdout",
          "text": [
            "Welcome to the Bank\n",
            "Enter your ATM PIN : 12345\n",
            "PIN Verified\n",
            "----ATM MENU----\n",
            "1. Check Balance\n",
            "2. Deposit Money\n",
            "3. Withdraw Money\n",
            "4. Exit\n",
            "Enter your choice (1-4) : 1\n",
            "Your Balance : 1000\n",
            "----ATM MENU----\n",
            "1. Check Balance\n",
            "2. Deposit Money\n",
            "3. Withdraw Money\n",
            "4. Exit\n",
            "Enter your choice (1-4) : 4\n",
            "Thank you for using the ATM. Goodbye!\n"
          ]
        }
      ]
    },
    {
      "cell_type": "code",
      "source": [
        "# Initial balance and pin of user\n",
        "balance = 1000\n",
        "pin = \"12345\"\n",
        "\n",
        "print(\"Welcome to the Bank\")\n",
        "\n",
        "# pin verification\n",
        "entered_pin = input(\"Enter your ATM PIN : \")\n",
        "\n",
        "if entered_pin == pin:\n",
        "  print(\"PIN Verified\")\n",
        "  while True:         # keep showing menu until user choose to exit\n",
        "    print(\"\\n\\n----ATM MENU----\")\n",
        "    print(\"1. Check Balance\")\n",
        "    print(\"2. Deposit Money\")\n",
        "    print(\"3. Withdraw Money\")\n",
        "    print(\"4. Exit\")\n",
        "\n",
        "    choice = input(\"Enter your choice (1-4) : \")\n",
        "\n",
        "    match choice:\n",
        "      case '1':\n",
        "        print(f\"\\n\\nYour Balance : {balance}\")\n",
        "\n",
        "      case '2':\n",
        "        amount = float(input(\"Enter amount to deposit : \"))\n",
        "        balance += amount\n",
        "        print(f\"\\n\\n{amount} deposited. Updated Balance : {balance}\")\n",
        "\n",
        "      case '3':\n",
        "        amount = float(input(\"Enter amount to withdraw : \"))\n",
        "        if amount <= balance:\n",
        "          balance -= amount\n",
        "          print(f\"\\n\\n{amount} withdrawn. Updated Balance : {balance}\")\n",
        "        else:\n",
        "          print(\"Insufficient balance.\")\n",
        "\n",
        "      case '4':\n",
        "          print(\"Thank you for using the ATM. Goodbye!\")\n",
        "          break\n",
        "\n",
        "      case _:\n",
        "        print(\"\\n\\nInvalid choice. Please select a valid option.\")\n",
        "else:\n",
        "  print(\"Invalid PIN. Access Denied.\")\n",
        ""
      ],
      "metadata": {
        "colab": {
          "base_uri": "https://localhost:8080/"
        },
        "id": "om5uaWn2lZSy",
        "outputId": "750b3a17-970b-4fa4-855d-83adc04c5497"
      },
      "execution_count": 45,
      "outputs": [
        {
          "output_type": "stream",
          "name": "stdout",
          "text": [
            "Welcome to the Bank\n",
            "Enter your ATM PIN : 12345\n",
            "PIN Verified\n",
            "\n",
            "\n",
            "----ATM MENU----\n",
            "1. Check Balance\n",
            "2. Deposit Money\n",
            "3. Withdraw Money\n",
            "4. Exit\n",
            "Enter your choice (1-4) : 1\n",
            "\n",
            "\n",
            "Your Balance : 1000\n",
            "\n",
            "\n",
            "----ATM MENU----\n",
            "1. Check Balance\n",
            "2. Deposit Money\n",
            "3. Withdraw Money\n",
            "4. Exit\n",
            "Enter your choice (1-4) : 2\n",
            "Enter amount to deposit : 500\n",
            "\n",
            "\n",
            "500.0 deposited. Updated Balance : 1500.0\n",
            "\n",
            "\n",
            "----ATM MENU----\n",
            "1. Check Balance\n",
            "2. Deposit Money\n",
            "3. Withdraw Money\n",
            "4. Exit\n",
            "Enter your choice (1-4) : 3\n",
            "Enter amount to withdraw : 200\n",
            "\n",
            "\n",
            "200.0 withdrawn. Updated Balance : 1300.0\n",
            "\n",
            "\n",
            "----ATM MENU----\n",
            "1. Check Balance\n",
            "2. Deposit Money\n",
            "3. Withdraw Money\n",
            "4. Exit\n",
            "Enter your choice (1-4) : 1\n",
            "\n",
            "\n",
            "Your Balance : 1300.0\n",
            "\n",
            "\n",
            "----ATM MENU----\n",
            "1. Check Balance\n",
            "2. Deposit Money\n",
            "3. Withdraw Money\n",
            "4. Exit\n",
            "Enter your choice (1-4) : 5\n",
            "Invalid choice. Please select a valid option.\n",
            "\n",
            "\n",
            "----ATM MENU----\n",
            "1. Check Balance\n",
            "2. Deposit Money\n",
            "3. Withdraw Money\n",
            "4. Exit\n",
            "Enter your choice (1-4) : 4\n",
            "Thank you for using the ATM. Goodbye!\n"
          ]
        }
      ]
    }
  ]
}
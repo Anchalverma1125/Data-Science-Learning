{
  "nbformat": 4,
  "nbformat_minor": 0,
  "metadata": {
    "colab": {
      "provenance": [],
      "authorship_tag": "ABX9TyOKP4gGiBfJ9aNHF6evub2s",
      "include_colab_link": true
    },
    "kernelspec": {
      "name": "python3",
      "display_name": "Python 3"
    },
    "language_info": {
      "name": "python"
    }
  },
  "cells": [
    {
      "cell_type": "markdown",
      "metadata": {
        "id": "view-in-github",
        "colab_type": "text"
      },
      "source": [
        "<a href=\"https://colab.research.google.com/github/Anchalverma1125/Data-Science-Learning/blob/main/Day5_Functions.ipynb\" target=\"_parent\"><img src=\"https://colab.research.google.com/assets/colab-badge.svg\" alt=\"Open In Colab\"/></a>"
      ]
    },
    {
      "cell_type": "markdown",
      "source": [
        "Functions in python - It is a block of code which can perform specific task and can be reused mutiple times. Funtions can help to maintain the code and enhances the readability, update can easily be done with functions, no need to change whole code at once."
      ],
      "metadata": {
        "id": "D8HDe5_fbnVz"
      }
    },
    {
      "cell_type": "code",
      "source": [
        "def greet(name):\n",
        "  return f\"Hello, {name}!\"\n",
        "\n",
        "print(greet(\"John\"))\n",
        "print(greet(\"Alice\"))"
      ],
      "metadata": {
        "colab": {
          "base_uri": "https://localhost:8080/"
        },
        "id": "IdcVGEgDcjZj",
        "outputId": "3067ce1c-9922-4a85-a9db-1914eae27dd3"
      },
      "execution_count": null,
      "outputs": [
        {
          "output_type": "stream",
          "name": "stdout",
          "text": [
            "Hello, John!\n",
            "Hello, Alice!\n"
          ]
        }
      ]
    },
    {
      "cell_type": "markdown",
      "source": [
        "Calling a function"
      ],
      "metadata": {
        "id": "s34yrxnhdAje"
      }
    },
    {
      "cell_type": "code",
      "execution_count": null,
      "metadata": {
        "id": "k8ZeVOpQbSLT",
        "colab": {
          "base_uri": "https://localhost:8080/"
        },
        "outputId": "1a6bddbf-07bf-4fb0-ac3f-3a5442783e6f"
      },
      "outputs": [
        {
          "output_type": "stream",
          "name": "stdout",
          "text": [
            "Enjoy the python language\n"
          ]
        }
      ],
      "source": [
        "# function with no parameter\n",
        "def fun():\n",
        "  print(\"Enjoy the python language\")\n",
        "\n",
        "fun() # here we call the function name fun"
      ]
    },
    {
      "cell_type": "markdown",
      "source": [
        "Function Argument\n",
        "\n",
        "Arguments are the values passed inside the parenthesis of the function. A function can have any number of arguments separated by a comma."
      ],
      "metadata": {
        "id": "75w75PPMvh1C"
      }
    },
    {
      "cell_type": "code",
      "source": [
        "def evenOdd(x): # x is a parameter\n",
        "    if (x % 2 == 0):\n",
        "        return \"Even\"\n",
        "    else:\n",
        "        return \"Odd\"\n",
        "\n",
        "print(evenOdd(16)) # 16 is the argument.\n",
        "print(evenOdd(7))"
      ],
      "metadata": {
        "colab": {
          "base_uri": "https://localhost:8080/"
        },
        "id": "nMMx5NiFv7Yu",
        "outputId": "85a53ea5-2744-40e9-869e-a5f3d9caeb76"
      },
      "execution_count": null,
      "outputs": [
        {
          "output_type": "stream",
          "name": "stdout",
          "text": [
            "Even\n",
            "Odd\n"
          ]
        }
      ]
    },
    {
      "cell_type": "markdown",
      "source": [
        "Types of function Arguments"
      ],
      "metadata": {
        "id": "nlUUO3uWwJwr"
      }
    },
    {
      "cell_type": "markdown",
      "source": [
        "1) Default Arguments\n",
        "\n",
        "A default argument is a parameter that assumes a default value if a value is not provided in the function call for that argument."
      ],
      "metadata": {
        "id": "7f6H1BhmwXKs"
      }
    },
    {
      "cell_type": "code",
      "source": [
        "def myFun(x, y=50):\n",
        "    print(\"x: \", x)\n",
        "    print(\"y: \", y)\n",
        "\n",
        "myFun(10)"
      ],
      "metadata": {
        "colab": {
          "base_uri": "https://localhost:8080/"
        },
        "id": "ubLxStvxwSyc",
        "outputId": "5f294e39-8af6-4149-fd49-2ea140d6423c"
      },
      "execution_count": null,
      "outputs": [
        {
          "output_type": "stream",
          "name": "stdout",
          "text": [
            "x:  10\n",
            "y:  50\n"
          ]
        }
      ]
    },
    {
      "cell_type": "markdown",
      "source": [
        "2. Keyword Arguments\n",
        "\n",
        "In keyword arguments, values are passed by explicitly specifying the parameter names, so the order doesn’t matter."
      ],
      "metadata": {
        "id": "Rk2vSpouwsFa"
      }
    },
    {
      "cell_type": "code",
      "source": [
        "def student(fname, lname):\n",
        "    print(fname, lname)\n",
        "\n",
        "student(fname='Python', lname='Practice')\n",
        "student(lname='Practice', fname='Python')"
      ],
      "metadata": {
        "colab": {
          "base_uri": "https://localhost:8080/"
        },
        "id": "a-e0eURnwzzo",
        "outputId": "a0cf2780-211c-4d90-c03e-a01a3bc48198"
      },
      "execution_count": null,
      "outputs": [
        {
          "output_type": "stream",
          "name": "stdout",
          "text": [
            "Python Practice\n",
            "Python Practice\n"
          ]
        }
      ]
    },
    {
      "cell_type": "markdown",
      "source": [
        "3. Positional Arguments\n",
        "\n",
        "values are assigned to parameters based on their order in the function call."
      ],
      "metadata": {
        "id": "aLJbh8j-xBYm"
      }
    },
    {
      "cell_type": "code",
      "source": [
        "def nameAge(name, age):\n",
        "    print(\"Hi, I am\", name)\n",
        "    print(\"My age is \", age)\n",
        "\n",
        "print(\"Case-1:\")\n",
        "nameAge(\"Anchal\", 27)\n",
        "\n",
        "print(\"\\nCase-2:\")\n",
        "nameAge(27, \"Anchal\")"
      ],
      "metadata": {
        "colab": {
          "base_uri": "https://localhost:8080/"
        },
        "id": "-6LYBa7PxjWL",
        "outputId": "ecb68a73-6bc6-4d3e-eca3-ac46b6732cb3"
      },
      "execution_count": null,
      "outputs": [
        {
          "output_type": "stream",
          "name": "stdout",
          "text": [
            "Case-1:\n",
            "Hi, I am Anchal\n",
            "My age is  27\n",
            "\n",
            "Case-2:\n",
            "Hi, I am 27\n",
            "My age is  Anchal\n"
          ]
        }
      ]
    },
    {
      "cell_type": "markdown",
      "source": [
        "4. Arbitrary Arguments\n",
        "\n",
        "In Python Arbitrary Keyword Arguments, *args and **kwargs can pass a variable number of arguments to a function using special symbols. There are two special symbols:\n",
        "\n",
        "*args in Python (Non-Keyword Arguments)\n",
        "**kwargs in Python (Keyword Arguments)"
      ],
      "metadata": {
        "id": "dHfcMOJxonUv"
      }
    },
    {
      "cell_type": "code",
      "source": [
        "def myFun(*args, **kwargs):\n",
        "    print(\"Non-Keyword Arguments (*args):\")\n",
        "    for arg in args:\n",
        "        print(arg)\n",
        "\n",
        "    print(\"\\nKeyword Arguments (**kwargs):\")\n",
        "    for key, value in kwargs.items():\n",
        "        print(f\"{key} == {value}\")\n",
        "\n",
        "# Function call with both types of arguments\n",
        "myFun('Hey', 'Welcome', first='Anchal', mid='for', last='Data Science')"
      ],
      "metadata": {
        "colab": {
          "base_uri": "https://localhost:8080/"
        },
        "id": "HeiSpYOkoqKk",
        "outputId": "6e367439-f512-4f47-eeed-8b1f4a02798a"
      },
      "execution_count": 1,
      "outputs": [
        {
          "output_type": "stream",
          "name": "stdout",
          "text": [
            "Non-Keyword Arguments (*args):\n",
            "Hey\n",
            "Welcome\n",
            "\n",
            "Keyword Arguments (**kwargs):\n",
            "first == Anchal\n",
            "mid == for\n",
            "last == Data Science\n"
          ]
        }
      ]
    },
    {
      "cell_type": "markdown",
      "source": [
        "Function within Functions\n",
        "\n",
        "A function defined inside another function is called an inner function (or nested function)."
      ],
      "metadata": {
        "id": "y6CXJj6npxEq"
      }
    },
    {
      "cell_type": "code",
      "source": [
        "def f1(name):\n",
        "  print(name)\n",
        "  def f2(surname):\n",
        "    print(name, surname)\n",
        "\n",
        "#calling inner function inside the outer\n",
        "  f2(\"Sharma\")\n",
        "f1(\"Anchal\")"
      ],
      "metadata": {
        "colab": {
          "base_uri": "https://localhost:8080/"
        },
        "id": "AdVT4xtwpzxQ",
        "outputId": "38d600f1-df63-4163-c484-6c7615ed431f"
      },
      "execution_count": 4,
      "outputs": [
        {
          "output_type": "stream",
          "name": "stdout",
          "text": [
            "Anchal\n",
            "Anchal Sharma\n"
          ]
        }
      ]
    },
    {
      "cell_type": "markdown",
      "source": [
        "Pass by Reference and Pass by Value\n",
        "\n",
        "In Python, variables are references to objects. When we pass them to a function, the behavior depends on whether the object is mutable (like lists, dictionaries) or immutable (like integers, strings, tuples).\n",
        "\n",
        "Mutable objects: Changes inside the function affect the original object.\n",
        "\n",
        "Immutable objects: The original value remains unchanged.\n",
        "\n",
        "\n",
        "\n"
      ],
      "metadata": {
        "id": "X0v_8IvFrrLy"
      }
    },
    {
      "cell_type": "code",
      "source": [
        "# Function modifies the first element of list\n",
        "def myFun(x):\n",
        "    x[0] = 20\n",
        "\n",
        "lst = [10, 11, 12, 13]\n",
        "myFun(lst)\n",
        "print(lst)   # list is modified\n",
        "\n",
        "# Function tries to modify an integer\n",
        "def myFun2(x):\n",
        "    x = 20\n",
        "\n",
        "a = 10\n",
        "myFun2(a)\n",
        "print(a)     # integer is not modified"
      ],
      "metadata": {
        "colab": {
          "base_uri": "https://localhost:8080/"
        },
        "id": "RGcxHEoWrwZw",
        "outputId": "19f1cc5f-fc9d-4f11-8508-58da49a4767d"
      },
      "execution_count": 5,
      "outputs": [
        {
          "output_type": "stream",
          "name": "stdout",
          "text": [
            "[20, 11, 12, 13]\n",
            "10\n"
          ]
        }
      ]
    },
    {
      "cell_type": "markdown",
      "source": [
        "Exercises:\n",
        "\n",
        "Square of a number"
      ],
      "metadata": {
        "id": "z4EBFh_-r2-o"
      }
    },
    {
      "cell_type": "code",
      "source": [
        "def square(num):\n",
        "  return num * num\n",
        "\n",
        "print(square(9))\n",
        "print(square(19))"
      ],
      "metadata": {
        "colab": {
          "base_uri": "https://localhost:8080/"
        },
        "id": "fUO7TfTvr9HC",
        "outputId": "4f4ed934-af10-4e55-ee89-d4fabb0f5cb2"
      },
      "execution_count": 8,
      "outputs": [
        {
          "output_type": "stream",
          "name": "stdout",
          "text": [
            "81\n",
            "361\n"
          ]
        }
      ]
    },
    {
      "cell_type": "markdown",
      "source": [
        "Check Even or Odd"
      ],
      "metadata": {
        "id": "5OZT4xfXsUO_"
      }
    },
    {
      "cell_type": "code",
      "source": [
        "def evenOdd(num):\n",
        "  if num % 2 == 0:\n",
        "    return \"Even\"\n",
        "  else:\n",
        "    return \"Odd\"\n",
        "\n",
        "print(evenOdd(16))\n",
        "print(evenOdd(7))"
      ],
      "metadata": {
        "colab": {
          "base_uri": "https://localhost:8080/"
        },
        "id": "-NV7TUOasYwB",
        "outputId": "004cef7c-447b-4b62-b5cf-ee546bbed0dc"
      },
      "execution_count": 9,
      "outputs": [
        {
          "output_type": "stream",
          "name": "stdout",
          "text": [
            "Even\n",
            "Odd\n"
          ]
        }
      ]
    },
    {
      "cell_type": "markdown",
      "source": [
        "Factorial using Function"
      ],
      "metadata": {
        "id": "t93SZ5ZCq_cj"
      }
    },
    {
      "cell_type": "code",
      "source": [
        "def fact(num):\n",
        "  result = 1\n",
        "  while num >= 1:\n",
        "    result = result * num\n",
        "    num = num - 1\n",
        "  return result\n",
        "\n",
        "print(fact(5))\n",
        "print(fact(7))\n"
      ],
      "metadata": {
        "colab": {
          "base_uri": "https://localhost:8080/"
        },
        "id": "KO4hOWVIsmCq",
        "outputId": "1ece4c0a-1267-4698-a1e8-d3d55cf96673"
      },
      "execution_count": 10,
      "outputs": [
        {
          "output_type": "stream",
          "name": "stdout",
          "text": [
            "120\n",
            "5040\n"
          ]
        }
      ]
    },
    {
      "cell_type": "markdown",
      "source": [
        "Find maximum of 3 numbers"
      ],
      "metadata": {
        "id": "47lx3X9uszsM"
      }
    },
    {
      "cell_type": "code",
      "source": [
        "def maximum(a, b, c):\n",
        "  return max(a, b, c)\n",
        "\n",
        "maximum(10, 20, 30)\n",
        "\n"
      ],
      "metadata": {
        "colab": {
          "base_uri": "https://localhost:8080/"
        },
        "id": "VZk372qds5hu",
        "outputId": "c5e3bae0-aa9e-4f0d-eb4e-4ae2dd8bbe63"
      },
      "execution_count": 20,
      "outputs": [
        {
          "output_type": "execute_result",
          "data": {
            "text/plain": [
              "30"
            ]
          },
          "metadata": {},
          "execution_count": 20
        }
      ]
    },
    {
      "cell_type": "markdown",
      "source": [
        "calculator with Funtions using variable arguments"
      ],
      "metadata": {
        "id": "oPRRPy9auIPn"
      }
    },
    {
      "cell_type": "code",
      "source": [
        "def calculator(*args, op):\n",
        "\n",
        "  if op == '+':\n",
        "    return sum(args)\n",
        "\n",
        "  elif op == '-':\n",
        "    result = args[0]\n",
        "    for i in range(1, len(args)):\n",
        "      result = result - args[i]\n",
        "    return result\n",
        "\n",
        "  elif op == '*':\n",
        "    result = 1\n",
        "    for i in args:\n",
        "      result = result * i\n",
        "    return result\n",
        "\n",
        "  elif op == '/':\n",
        "    result = args[0]\n",
        "    for i in range(1, len(args)):\n",
        "      if args[i] == 0:\n",
        "        return \"Error: Cannot divide by zero\"\n",
        "      result = result / args[i]\n",
        "    return result\n",
        "\n",
        "  else:\n",
        "    return \"Invalid Operator\"\n",
        "\n",
        "#--- Test cases ---\n",
        "print(calculator(10, 20, 30, op='+'))\n",
        "print(calculator(100, 20, 30, op='-'))\n",
        "print(calculator(10, 20, 30, op='*'))\n",
        "print(calculator(100, 20, 30, op='/'))\n",
        "print(calculator(20, 0, op='/'))\n",
        "print(calculator(10, 20, 30, op='^'))\n"
      ],
      "metadata": {
        "colab": {
          "base_uri": "https://localhost:8080/"
        },
        "id": "4l_C51HuuHwN",
        "outputId": "0db65283-9bd7-49b2-aad2-5ef104428c23"
      },
      "execution_count": 24,
      "outputs": [
        {
          "output_type": "stream",
          "name": "stdout",
          "text": [
            "60\n",
            "50\n",
            "6000\n",
            "0.16666666666666666\n",
            "Error: Cannot divide by zero\n",
            "Invalid Operator\n"
          ]
        }
      ]
    },
    {
      "cell_type": "markdown",
      "source": [
        "Mini Project:\n",
        "\n",
        "STUDENT MARKS ANALYZER\n",
        "\n",
        "Create a program where you can enter marks of multiple students(in multiple subjects)\n",
        "The program should:\n",
        "1. calculate each student's total and average marks.\n",
        "2. Assign a grade (A/B/C/Fail)\n",
        "3. Print a summary report for all students."
      ],
      "metadata": {
        "id": "iboryx93wXcH"
      }
    },
    {
      "cell_type": "code",
      "source": [
        "# Student Marks Analyzer\n",
        "\n",
        "def student_report(**students):\n",
        "\n",
        "  # Assign a grade\n",
        "  def get_grade(average):\n",
        "    if average >= 90:\n",
        "      return \"A\"\n",
        "    elif average >= 80:\n",
        "      return \"B\"\n",
        "    elif average >= 70:\n",
        "      return \"C\"\n",
        "    else:\n",
        "      return \"Fail\"\n",
        "\n",
        "  #calculate total and average marks of each student\n",
        "  for name, marks in students.items():\n",
        "    total = sum(marks)\n",
        "    average = total / len(marks)\n",
        "\n",
        "    # Print summary report\n",
        "    print(\"Student Report\")\n",
        "    print(\"-\" * 30) # print - 30 times\n",
        "\n",
        "    print(f\"\\U0001F464 {name}\") # \\U0001F464 This is the code for user icon.\n",
        "    print(f\"Marks: {marks}\")\n",
        "    print(f\"Total: {total}\")\n",
        "    print(f\"Average: {average:.2f}\")\n",
        "    print(f\"Grade: {get_grade(average)}\")\n",
        "    print(\"-\" * 30)\n",
        "\n",
        "\n",
        "\n",
        "student_report(\n",
        "    ALice = [85, 90, 92, 78],\n",
        "    Bob = [78, 82, 85, 88],\n",
        "    Charlie = [92, 95, 98, 89]\n",
        ")"
      ],
      "metadata": {
        "colab": {
          "base_uri": "https://localhost:8080/"
        },
        "id": "knENDupVxRg1",
        "outputId": "b9f8d057-e55c-48ed-ff59-cf1e4a5238ab"
      },
      "execution_count": 27,
      "outputs": [
        {
          "output_type": "stream",
          "name": "stdout",
          "text": [
            "Student Report\n",
            "------------------------------\n",
            "👤 ALice\n",
            "Marks: [85, 90, 92, 78]\n",
            "Total: 345\n",
            "Average: 86.25\n",
            "Grade: B\n",
            "------------------------------\n",
            "Student Report\n",
            "------------------------------\n",
            "👤 Bob\n",
            "Marks: [78, 82, 85, 88]\n",
            "Total: 333\n",
            "Average: 83.25\n",
            "Grade: B\n",
            "------------------------------\n",
            "Student Report\n",
            "------------------------------\n",
            "👤 Charlie\n",
            "Marks: [92, 95, 98, 89]\n",
            "Total: 374\n",
            "Average: 93.50\n",
            "Grade: A\n",
            "------------------------------\n"
          ]
        }
      ]
    }
  ]
}
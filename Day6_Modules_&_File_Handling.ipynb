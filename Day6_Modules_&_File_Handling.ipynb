{
  "nbformat": 4,
  "nbformat_minor": 0,
  "metadata": {
    "colab": {
      "provenance": [],
      "authorship_tag": "ABX9TyOvO1GAOvBsT25079UcOS5R",
      "include_colab_link": true
    },
    "kernelspec": {
      "name": "python3",
      "display_name": "Python 3"
    },
    "language_info": {
      "name": "python"
    }
  },
  "cells": [
    {
      "cell_type": "markdown",
      "metadata": {
        "id": "view-in-github",
        "colab_type": "text"
      },
      "source": [
        "<a href=\"https://colab.research.google.com/github/Anchalverma1125/Data-Science-Learning/blob/main/Day6_Modules_%26_File_Handling.ipynb\" target=\"_parent\"><img src=\"https://colab.research.google.com/assets/colab-badge.svg\" alt=\"Open In Colab\"/></a>"
      ]
    },
    {
      "cell_type": "markdown",
      "source": [
        "Modules and imports: how to organize and reuse code\n",
        "\n",
        "File handling: reading / writing text files -  must for data work"
      ],
      "metadata": {
        "id": "SOrADQ5yjI8t"
      }
    },
    {
      "cell_type": "markdown",
      "source": [
        "What is a Module?\n",
        "\n",
        "A module is just a python file (.py) containing classes, functions, or variables"
      ],
      "metadata": {
        "id": "SVEGArptjkvb"
      }
    },
    {
      "cell_type": "code",
      "execution_count": 3,
      "metadata": {
        "colab": {
          "base_uri": "https://localhost:8080/"
        },
        "id": "YSSoZjOjiTfy",
        "outputId": "679aabd2-bbd1-4fa6-f648-ca98b1a65838"
      },
      "outputs": [
        {
          "output_type": "stream",
          "name": "stdout",
          "text": [
            "3.141592653589793\n",
            "4.0\n"
          ]
        }
      ],
      "source": [
        "import math\n",
        "\n",
        "print(math.pi)\n",
        "print(math.sqrt(16))"
      ]
    },
    {
      "cell_type": "code",
      "source": [
        "from math import pi, sqrt\n",
        "\n",
        "print(pi)\n",
        "print(sqrt(36))"
      ],
      "metadata": {
        "colab": {
          "base_uri": "https://localhost:8080/"
        },
        "id": "S6gJw-i_kias",
        "outputId": "dc5651f0-57c1-41c5-bb1f-f516995613e5"
      },
      "execution_count": 4,
      "outputs": [
        {
          "output_type": "stream",
          "name": "stdout",
          "text": [
            "3.141592653589793\n",
            "6.0\n"
          ]
        }
      ]
    },
    {
      "cell_type": "markdown",
      "source": [
        "File handling: There are various operations perform on file like opening a file, read, write, read-write, append, close etc."
      ],
      "metadata": {
        "id": "pr3ecwkQk2pU"
      }
    },
    {
      "cell_type": "markdown",
      "source": [
        "Opening a file\n",
        "\n",
        "write mode, create a file if it doesn't exist."
      ],
      "metadata": {
        "id": "yMZ0vSE7lcZk"
      }
    },
    {
      "cell_type": "code",
      "source": [
        "file = open(\"file.txt\", \"w\")\n",
        "file.write(\"Hello World.\\n\")\n",
        "file.close()"
      ],
      "metadata": {
        "id": "vjqlRl85ln6R"
      },
      "execution_count": 8,
      "outputs": []
    },
    {
      "cell_type": "markdown",
      "source": [
        "Reading a file"
      ],
      "metadata": {
        "id": "kBImqEJYmHgj"
      }
    },
    {
      "cell_type": "code",
      "source": [
        "file  = open(\"file.txt\", \"r\")\n",
        "print(file.read())\n",
        "file.close()"
      ],
      "metadata": {
        "colab": {
          "base_uri": "https://localhost:8080/"
        },
        "id": "bYGUSeuzmL9m",
        "outputId": "6767e214-c535-45ad-fb12-eed0023233bb"
      },
      "execution_count": 9,
      "outputs": [
        {
          "output_type": "stream",
          "name": "stdout",
          "text": [
            "Hello World.\n",
            "\n"
          ]
        }
      ]
    },
    {
      "cell_type": "markdown",
      "source": [
        "Using with (Best Practice)"
      ],
      "metadata": {
        "id": "uR_bGIBQmTv8"
      }
    },
    {
      "cell_type": "code",
      "source": [
        "with open(\"file.txt\", \"a\") as file:\n",
        "  file.write(\"I am learning Data Science.\\n\")\n",
        "\n",
        "with open(\"file.txt\", \"r\") as file:\n",
        "  print(file.read())\n",
        ""
      ],
      "metadata": {
        "colab": {
          "base_uri": "https://localhost:8080/"
        },
        "id": "nj_x1eGnmb3V",
        "outputId": "3b7c5bae-fb51-4176-a23b-c7426ae02731"
      },
      "execution_count": 10,
      "outputs": [
        {
          "output_type": "stream",
          "name": "stdout",
          "text": [
            "Hello World.\n",
            "I am learning Data Science.\n",
            "\n"
          ]
        }
      ]
    },
    {
      "cell_type": "markdown",
      "source": [
        "Exercise: Make a file mymodule.py and use it in another file."
      ],
      "metadata": {
        "id": "zaMg7nBFnJ2B"
      }
    },
    {
      "cell_type": "code",
      "source": [
        "with open(\"mymodule.py\", \"w\") as file:\n",
        "  file.write(\"def greet(name): \\n\")\n",
        "  file.write(\"  return f'Hello, {name}'\\n\")\n",
        "  file.write(\"def add(a, b):\\n\")\n",
        "  file.write(\"  return a + b\\n\")"
      ],
      "metadata": {
        "id": "dkpElXI2nY16"
      },
      "execution_count": 12,
      "outputs": []
    },
    {
      "cell_type": "code",
      "source": [
        "import mymodule\n",
        "\n",
        "print(mymodule.greet(\"John\"))\n",
        "print(mymodule.add(1, 2))"
      ],
      "metadata": {
        "colab": {
          "base_uri": "https://localhost:8080/"
        },
        "id": "CyR-e3tOo-fs",
        "outputId": "849aebbe-7a19-47f1-c62f-8a83e1750bf7"
      },
      "execution_count": 13,
      "outputs": [
        {
          "output_type": "stream",
          "name": "stdout",
          "text": [
            "Hello, John\n",
            "3\n"
          ]
        }
      ]
    },
    {
      "cell_type": "markdown",
      "source": [
        "Mini project:\n",
        "Personal Diary App\n",
        "\n",
        "Build a small diary program where you can:\n",
        "\n",
        "1. Add a new dairy entry(append to file).\n",
        "2. View all dairy entries(read file).\n",
        "\n",
        "Features:\n",
        "\n",
        "\n",
        "*   Use functions for add/view.\n",
        "*   Store each entry with date and time(using datetime module).\n",
        "\n"
      ],
      "metadata": {
        "id": "0pcCYen8pLNg"
      }
    },
    {
      "cell_type": "code",
      "source": [
        "# Personal Diary app\n",
        "\n",
        "from datetime import datetime\n",
        "\n",
        "# Function to add new dairy entry\n",
        "def add_entry():\n",
        "  entry = input(\"write your dairy entry: \")\n",
        "  timestamp = datetime.now().strftime(\"%Y-%m-%d %H:%M:%S\")\n",
        "\n",
        "  with open(\"diary.txt\", \"a\") as file:\n",
        "    file.write(f\"{timestamp}: {entry}\\n\")\n",
        "\n",
        "  print(\"Saved successfully!\")\n",
        "\n",
        "# Function to view diary entries\n",
        "def view_entries():\n",
        "  try:\n",
        "    with open(\"diary.txt\", \"r\") as file:\n",
        "      entries = file.read()\n",
        "      if entries:\n",
        "        print(entries)\n",
        "        print(\"-\" * 40)\n",
        "      else:\n",
        "        print(\"No entries found.\")\n",
        "  except FileNotFoundError:\n",
        "    print(\"No dairy entries found.\")\n",
        "\n",
        "\n",
        "# Main function with menu\n",
        "\n",
        "def dairy_app():\n",
        "  while True:\n",
        "    print(\"\\n------Diary App Menu:------\\n\")\n",
        "    print(\"1. Add Entry\")\n",
        "    print(\"2. View Entries\")\n",
        "    print(\"3. Exit\")\n",
        "\n",
        "    choice = input(\"Enter your choice(1/2/3): \")\n",
        "\n",
        "    if choice == \"1\":\n",
        "      add_entry()\n",
        "    elif choice == \"2\":\n",
        "      view_entries()\n",
        "    elif choice == \"3\":\n",
        "      print(\"Goodbye! We will meet again\")\n",
        "      break\n",
        "    else:\n",
        "      print(\"Invalid choice. Please try again.\")\n",
        "\n",
        "# Run the diary app\n",
        "dairy_app()"
      ],
      "metadata": {
        "colab": {
          "base_uri": "https://localhost:8080/"
        },
        "id": "i12Acqz4pKwb",
        "outputId": "6d4c5f50-8e86-4855-f630-8bed0c4834b8"
      },
      "execution_count": 14,
      "outputs": [
        {
          "output_type": "stream",
          "name": "stdout",
          "text": [
            "\n",
            "------Diary App Menu:------\n",
            "\n",
            "1. Add Entry\n",
            "2. View Entries\n",
            "3. Exit\n",
            "Enter your choice(1/2/3): 1\n",
            "write your dairy entry: Hi, I am John and today is Sunday, a weekend to enjoy with family\n",
            "Saved successfully!\n",
            "\n",
            "------Diary App Menu:------\n",
            "\n",
            "1. Add Entry\n",
            "2. View Entries\n",
            "3. Exit\n",
            "Enter your choice(1/2/3): 2\n",
            "2025-09-28 09:58:56: Hi, I am John and today is Sunday, a weekend to enjoy with family\n",
            "\n",
            "----------------------------------------\n",
            "\n",
            "------Diary App Menu:------\n",
            "\n",
            "1. Add Entry\n",
            "2. View Entries\n",
            "3. Exit\n",
            "Enter your choice(1/2/3): 3\n",
            "Goodbye! We will meet again\n"
          ]
        }
      ]
    }
  ]
}